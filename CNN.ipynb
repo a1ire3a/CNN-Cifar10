{
  "nbformat": 4,
  "nbformat_minor": 0,
  "metadata": {
    "colab": {
      "name": "CNN",
      "provenance": [],
      "collapsed_sections": []
    },
    "kernelspec": {
      "name": "python3",
      "display_name": "Python 3"
    },
    "language_info": {
      "name": "python"
    },
    "accelerator": "GPU"
  },
  "cells": [
    {
      "cell_type": "code",
      "execution_count": 1,
      "metadata": {
        "id": "UVFCyGB83Hqv"
      },
      "outputs": [],
      "source": [
        "import tensorflow as tf\n",
        "from keras import Input\n",
        "from keras.models import Sequential\n",
        "from keras.layers import Conv2D, Dense, Flatten, MaxPooling2D\n",
        "from sklearn.preprocessing import StandardScaler\n",
        "import matplotlib.pyplot as plt"
      ]
    },
    {
      "cell_type": "markdown",
      "source": [
        "# ***Part 0***"
      ],
      "metadata": {
        "id": "hqvV6YoemXpF"
      }
    },
    {
      "cell_type": "code",
      "source": [
        "(x_train, y_train), (x_test, y_test) = tf.keras.datasets.cifar10.load_data()"
      ],
      "metadata": {
        "id": "TyrXyPwS79n2"
      },
      "execution_count": 2,
      "outputs": []
    },
    {
      "cell_type": "markdown",
      "source": [
        "# ***Part 1***"
      ],
      "metadata": {
        "id": "jvW0AQbzmhj3"
      }
    },
    {
      "cell_type": "code",
      "source": [
        "model = Sequential()\n",
        "model.add(Conv2D(32, (3, 3), padding='same', activation='relu', input_shape=(32, 32, 3)))\n",
        "model.add(MaxPooling2D((2, 2)))\n",
        "model.add(Conv2D(64, (3, 3), padding='same', activation='relu'))\n",
        "model.add(MaxPooling2D((2, 2)))\n",
        "model.add(Conv2D(128, (3, 3), padding='same', activation='relu'))\n",
        "model.add(MaxPooling2D((2, 2)))\n",
        "model.add(Flatten())\n",
        "model.add(Dense(128, activation='relu', kernel_initializer='he_uniform'))\n",
        "model.add(Dense(10, activation='softmax'))\n",
        "model.summary()"
      ],
      "metadata": {
        "colab": {
          "base_uri": "https://localhost:8080/"
        },
        "id": "4DHNdgaH8t6b",
        "outputId": "0a69f3c4-fb66-4898-82ba-87c075a08368"
      },
      "execution_count": 3,
      "outputs": [
        {
          "output_type": "stream",
          "name": "stdout",
          "text": [
            "Model: \"sequential\"\n",
            "_________________________________________________________________\n",
            " Layer (type)                Output Shape              Param #   \n",
            "=================================================================\n",
            " conv2d (Conv2D)             (None, 32, 32, 32)        896       \n",
            "                                                                 \n",
            " max_pooling2d (MaxPooling2D  (None, 16, 16, 32)       0         \n",
            " )                                                               \n",
            "                                                                 \n",
            " conv2d_1 (Conv2D)           (None, 16, 16, 64)        18496     \n",
            "                                                                 \n",
            " max_pooling2d_1 (MaxPooling  (None, 8, 8, 64)         0         \n",
            " 2D)                                                             \n",
            "                                                                 \n",
            " conv2d_2 (Conv2D)           (None, 8, 8, 128)         73856     \n",
            "                                                                 \n",
            " max_pooling2d_2 (MaxPooling  (None, 4, 4, 128)        0         \n",
            " 2D)                                                             \n",
            "                                                                 \n",
            " flatten (Flatten)           (None, 2048)              0         \n",
            "                                                                 \n",
            " dense (Dense)               (None, 128)               262272    \n",
            "                                                                 \n",
            " dense_1 (Dense)             (None, 10)                1290      \n",
            "                                                                 \n",
            "=================================================================\n",
            "Total params: 356,810\n",
            "Trainable params: 356,810\n",
            "Non-trainable params: 0\n",
            "_________________________________________________________________\n"
          ]
        }
      ]
    },
    {
      "cell_type": "markdown",
      "source": [
        "# ***Part 2***"
      ],
      "metadata": {
        "id": "G1QP7U0NmyxM"
      }
    },
    {
      "cell_type": "code",
      "source": [
        "model.compile(optimizer='adam',loss=tf.keras.losses.SparseCategoricalCrossentropy(from_logits=True), metrics=['accuracy'])\n",
        "\n",
        "rep = model.fit(x_train, y_train, epochs=10, validation_data=(x_test, y_test))"
      ],
      "metadata": {
        "colab": {
          "base_uri": "https://localhost:8080/"
        },
        "id": "UUGgQWw6qJDn",
        "outputId": "8aaf014b-70d5-443c-eb45-5b5dbee5c048"
      },
      "execution_count": 4,
      "outputs": [
        {
          "output_type": "stream",
          "name": "stdout",
          "text": [
            "Epoch 1/10\n"
          ]
        },
        {
          "output_type": "stream",
          "name": "stderr",
          "text": [
            "/usr/local/lib/python3.7/dist-packages/tensorflow/python/util/dispatch.py:1096: UserWarning: \"`sparse_categorical_crossentropy` received `from_logits=True`, but the `output` argument was produced by a sigmoid or softmax activation and thus does not represent logits. Was this intended?\"\n",
            "  return dispatch_target(*args, **kwargs)\n"
          ]
        },
        {
          "output_type": "stream",
          "name": "stdout",
          "text": [
            "1563/1563 [==============================] - 22s 11ms/step - loss: 1.6931 - accuracy: 0.4563 - val_loss: 1.3359 - val_accuracy: 0.5285\n",
            "Epoch 2/10\n",
            "1563/1563 [==============================] - 16s 10ms/step - loss: 1.1405 - accuracy: 0.5997 - val_loss: 1.0747 - val_accuracy: 0.6280\n",
            "Epoch 3/10\n",
            "1563/1563 [==============================] - 16s 10ms/step - loss: 0.9887 - accuracy: 0.6574 - val_loss: 1.0113 - val_accuracy: 0.6563\n",
            "Epoch 4/10\n",
            "1563/1563 [==============================] - 16s 10ms/step - loss: 0.8929 - accuracy: 0.6892 - val_loss: 0.9322 - val_accuracy: 0.6850\n",
            "Epoch 5/10\n",
            "1563/1563 [==============================] - 15s 10ms/step - loss: 0.8026 - accuracy: 0.7204 - val_loss: 0.9093 - val_accuracy: 0.6937\n",
            "Epoch 6/10\n",
            "1563/1563 [==============================] - 15s 10ms/step - loss: 0.7456 - accuracy: 0.7418 - val_loss: 0.9126 - val_accuracy: 0.6971\n",
            "Epoch 7/10\n",
            "1563/1563 [==============================] - 16s 10ms/step - loss: 0.6755 - accuracy: 0.7661 - val_loss: 0.9250 - val_accuracy: 0.6976\n",
            "Epoch 8/10\n",
            "1563/1563 [==============================] - 16s 10ms/step - loss: 0.6306 - accuracy: 0.7807 - val_loss: 0.9296 - val_accuracy: 0.6977\n",
            "Epoch 9/10\n",
            "1563/1563 [==============================] - 16s 10ms/step - loss: 0.5792 - accuracy: 0.7985 - val_loss: 0.9587 - val_accuracy: 0.6978\n",
            "Epoch 10/10\n",
            "1563/1563 [==============================] - 15s 10ms/step - loss: 0.5439 - accuracy: 0.8104 - val_loss: 1.0626 - val_accuracy: 0.6826\n"
          ]
        }
      ]
    },
    {
      "cell_type": "code",
      "source": [
        "plt.plot(rep.history['accuracy'], label='accuracy')\n",
        "plt.plot(rep.history['val_accuracy'], label = 'val_accuracy')\n",
        "plt.xlabel('Epoch')\n",
        "plt.ylabel('Accuracy')\n",
        "plt.ylim([0, 1])\n",
        "plt.legend(loc='lower right')"
      ],
      "metadata": {
        "colab": {
          "base_uri": "https://localhost:8080/",
          "height": 300
        },
        "id": "bl5ZBj4wqwmw",
        "outputId": "215dbd0d-39c7-4605-9eb9-48e16b7dcda0"
      },
      "execution_count": 5,
      "outputs": [
        {
          "output_type": "execute_result",
          "data": {
            "text/plain": [
              "<matplotlib.legend.Legend at 0x7f2d404f7610>"
            ]
          },
          "metadata": {},
          "execution_count": 5
        },
        {
          "output_type": "display_data",
          "data": {
            "image/png": "[encoded data removed]",
            "text/plain": [
              "<Figure size 432x288 with 1 Axes>"
            ]
          },
          "metadata": {
            "needs_background": "light"
          }
        }
      ]
    },
    {
      "cell_type": "code",
      "source": [
        "plt.plot(rep.history['loss'], label='loss')\n",
        "plt.plot(rep.history['val_loss'], label = 'val_loss')\n",
        "plt.xlabel('Epoch')\n",
        "plt.ylabel('Loss')\n",
        "plt.ylim([0, 2])\n",
        "plt.legend(loc='lower right')"
      ],
      "metadata": {
        "colab": {
          "base_uri": "https://localhost:8080/",
          "height": 300
        },
        "id": "2WR8DtTPlSoP",
        "outputId": "58390594-bbcc-4964-e032-89a63fa8aba3"
      },
      "execution_count": 6,
      "outputs": [
        {
          "output_type": "execute_result",
          "data": {
            "text/plain": [
              "<matplotlib.legend.Legend at 0x7f2d40335e90>"
            ]
          },
          "metadata": {},
          "execution_count": 6
        },
        {
          "output_type": "display_data",
          "data": {
            "image/png": "[encoded data removed]",
            "text/plain": [
              "<Figure size 432x288 with 1 Axes>"
            ]
          },
          "metadata": {
            "needs_background": "light"
          }
        }
      ]
    },
    {
      "cell_type": "code",
      "source": [
        "test_loss, test_acc = model.evaluate(x_test, y_test, verbose=2)\n",
        "print(test_acc)"
      ],
      "metadata": {
        "colab": {
          "base_uri": "https://localhost:8080/"
        },
        "id": "ROgkcys51HCs",
        "outputId": "dd6ce4ff-2598-42b0-9fc2-8543da07ce7e"
      },
      "execution_count": 7,
      "outputs": [
        {
          "output_type": "stream",
          "name": "stdout",
          "text": [
            "313/313 - 1s - loss: 1.0626 - accuracy: 0.6826 - 1s/epoch - 4ms/step\n",
            "0.6826000213623047\n"
          ]
        }
      ]
    },
    {
      "cell_type": "markdown",
      "source": [
        "# ***Part 3***"
      ],
      "metadata": {
        "id": "ktzX_EMGm_Tg"
      }
    },
    {
      "cell_type": "code",
      "source": [
        "import numpy as np\n",
        "\n",
        "def global_contrast_normalization(image):\n",
        "    XX = image\n",
        "\n",
        "    # replacement for the loop\n",
        "    X_average = np.mean(XX)\n",
        "    XX = XX - X_average\n",
        "    \n",
        "    ss   = 1.0\n",
        "    lmda = 10.\n",
        "    contrast = np.sqrt(lmda + np.mean(XX**2)).astype(np.float64)\n",
        "    \n",
        "    if contrast > 1e-8:\n",
        "        XX = ss * XX / contrast\n",
        "    else:\n",
        "        XX = ss * XX \n",
        "\n",
        "    return XX"
      ],
      "metadata": {
        "id": "_9MMm163qs56"
      },
      "execution_count": 8,
      "outputs": []
    },
    {
      "cell_type": "code",
      "source": [
        "x_train = np.asarray(x_train)\n",
        "x_test = np.asarray(x_test)"
      ],
      "metadata": {
        "id": "LyVRhs-6uhif"
      },
      "execution_count": 9,
      "outputs": []
    },
    {
      "cell_type": "code",
      "source": [
        "gcn_train = np.asarray([global_contrast_normalization(x) for x in x_train])\n",
        "gcn_test = np.asarray([global_contrast_normalization(x) for x in x_test])"
      ],
      "metadata": {
        "id": "pkeol5ySub5v"
      },
      "execution_count": 10,
      "outputs": []
    },
    {
      "cell_type": "code",
      "source": [
        "gcn_train = (gcn_train - gcn_train.min(axis=(1,2))[:,None,None,:] )/(gcn_train.max(axis=(1,2))-gcn_train.min(axis=(1,2)))[:,None,None,:]\n",
        "gcn_test = (gcn_test - gcn_test.min(axis=(1,2))[:,None,None,:] )/(gcn_test.max(axis=(1,2))-gcn_test.min(axis=(1,2)))[:,None,None,:]"
      ],
      "metadata": {
        "id": "Jkad09drvXOh"
      },
      "execution_count": 11,
      "outputs": []
    },
    {
      "cell_type": "code",
      "source": [
        "model.compile(optimizer='adam',loss=tf.keras.losses.SparseCategoricalCrossentropy(from_logits=True), metrics=['accuracy'])\n",
        "\n",
        "rep = model.fit(gcn_train, y_train, epochs=10, validation_data=(gcn_test, y_test))"
      ],
      "metadata": {
        "colab": {
          "base_uri": "https://localhost:8080/"
        },
        "id": "jdPx3A7QsJsj",
        "outputId": "fea57d20-9b69-4ca5-ba75-aea93a7513a2"
      },
      "execution_count": 12,
      "outputs": [
        {
          "output_type": "stream",
          "name": "stdout",
          "text": [
            "Epoch 1/10\n"
          ]
        },
        {
          "output_type": "stream",
          "name": "stderr",
          "text": [
            "/usr/local/lib/python3.7/dist-packages/tensorflow/python/util/dispatch.py:1096: UserWarning: \"`sparse_categorical_crossentropy` received `from_logits=True`, but the `output` argument was produced by a sigmoid or softmax activation and thus does not represent logits. Was this intended?\"\n",
            "  return dispatch_target(*args, **kwargs)\n"
          ]
        },
        {
          "output_type": "stream",
          "name": "stdout",
          "text": [
            "1563/1563 [==============================] - 17s 10ms/step - loss: 1.1991 - accuracy: 0.5719 - val_loss: 0.8828 - val_accuracy: 0.6919\n",
            "Epoch 2/10\n",
            "1563/1563 [==============================] - 16s 10ms/step - loss: 0.7237 - accuracy: 0.7476 - val_loss: 0.7781 - val_accuracy: 0.7332\n",
            "Epoch 3/10\n",
            "1563/1563 [==============================] - 16s 10ms/step - loss: 0.5920 - accuracy: 0.7937 - val_loss: 0.7365 - val_accuracy: 0.7547\n",
            "Epoch 4/10\n",
            "1563/1563 [==============================] - 16s 10ms/step - loss: 0.4960 - accuracy: 0.8275 - val_loss: 0.7501 - val_accuracy: 0.7568\n",
            "Epoch 5/10\n",
            "1563/1563 [==============================] - 16s 10ms/step - loss: 0.4228 - accuracy: 0.8519 - val_loss: 0.7803 - val_accuracy: 0.7510\n",
            "Epoch 6/10\n",
            "1563/1563 [==============================] - 16s 10ms/step - loss: 0.3534 - accuracy: 0.8750 - val_loss: 0.8566 - val_accuracy: 0.7441\n",
            "Epoch 7/10\n",
            "1563/1563 [==============================] - 16s 10ms/step - loss: 0.2970 - accuracy: 0.8947 - val_loss: 0.8994 - val_accuracy: 0.7510\n",
            "Epoch 8/10\n",
            "1563/1563 [==============================] - 16s 10ms/step - loss: 0.2470 - accuracy: 0.9130 - val_loss: 0.9851 - val_accuracy: 0.7344\n",
            "Epoch 9/10\n",
            "1563/1563 [==============================] - 16s 10ms/step - loss: 0.2071 - accuracy: 0.9259 - val_loss: 1.0916 - val_accuracy: 0.7459\n",
            "Epoch 10/10\n",
            "1563/1563 [==============================] - 16s 10ms/step - loss: 0.1677 - accuracy: 0.9412 - val_loss: 1.1995 - val_accuracy: 0.7363\n"
          ]
        }
      ]
    },
    {
      "cell_type": "code",
      "source": [
        "plt.plot(rep.history['accuracy'], label='accuracy')\n",
        "plt.plot(rep.history['val_accuracy'], label = 'val_accuracy')\n",
        "plt.xlabel('Epoch')\n",
        "plt.ylabel('Accuracy')\n",
        "plt.ylim([0, 1])\n",
        "plt.legend(loc='lower right')"
      ],
      "metadata": {
        "colab": {
          "base_uri": "https://localhost:8080/",
          "height": 300
        },
        "id": "ub-_wMHIyz6W",
        "outputId": "53e8438f-21d6-4806-e93b-863d2fe76263"
      },
      "execution_count": 13,
      "outputs": [
        {
          "output_type": "execute_result",
          "data": {
            "text/plain": [
              "<matplotlib.legend.Legend at 0x7f2ccce366d0>"
            ]
          },
          "metadata": {},
          "execution_count": 13
        },
        {
          "output_type": "display_data",
          "data": {
            "image/png": "[encoded data removed]",
            "text/plain": [
              "<Figure size 432x288 with 1 Axes>"
            ]
          },
          "metadata": {
            "needs_background": "light"
          }
        }
      ]
    },
    {
      "cell_type": "code",
      "source": [
        "plt.plot(rep.history['loss'], label='loss')\n",
        "plt.plot(rep.history['val_loss'], label = 'val_loss')\n",
        "plt.xlabel('Epoch')\n",
        "plt.ylabel('Loss')\n",
        "plt.ylim([0, 2])\n",
        "plt.legend(loc='lower right')"
      ],
      "metadata": {
        "colab": {
          "base_uri": "https://localhost:8080/",
          "height": 300
        },
        "id": "oLfClVajy0tQ",
        "outputId": "651275bc-ebe5-4efe-93b1-ec11546084c8"
      },
      "execution_count": 14,
      "outputs": [
        {
          "output_type": "execute_result",
          "data": {
            "text/plain": [
              "<matplotlib.legend.Legend at 0x7f2cccdac190>"
            ]
          },
          "metadata": {},
          "execution_count": 14
        },
        {
          "output_type": "display_data",
          "data": {
            "image/png": "[encoded data removed]",
            "text/plain": [
              "<Figure size 432x288 with 1 Axes>"
            ]
          },
          "metadata": {
            "needs_background": "light"
          }
        }
      ]
    },
    {
      "cell_type": "code",
      "source": [
        "test_loss, test_acc = model.evaluate(gcn_test, y_test, verbose=2)\n",
        "print(test_acc)"
      ],
      "metadata": {
        "colab": {
          "base_uri": "https://localhost:8080/"
        },
        "id": "mBAMF_Ehy4iB",
        "outputId": "a37b92ef-c535-4393-96a4-662dc59cfb09"
      },
      "execution_count": 16,
      "outputs": [
        {
          "output_type": "stream",
          "name": "stdout",
          "text": [
            "313/313 - 1s - loss: 1.1995 - accuracy: 0.7363 - 1s/epoch - 4ms/step\n",
            "0.736299991607666\n"
          ]
        }
      ]
    },
    {
      "cell_type": "markdown",
      "source": [
        "# ***Part 4***"
      ],
      "metadata": {
        "id": "ZWo6Q669zAE3"
      }
    },
    {
      "cell_type": "markdown",
      "source": [
        "***a)***"
      ],
      "metadata": {
        "id": "hYv_xBsI1R_J"
      }
    },
    {
      "cell_type": "code",
      "source": [
        "model_a = Sequential()\n",
        "model_a.add(Conv2D(512, (3, 3), padding='same', activation='relu', input_shape=(32, 32, 3)))\n",
        "model_a.add(MaxPooling2D((4, 4)))\n",
        "model_a.add(Flatten())\n",
        "model_a.add(Dense(10, activation='softmax'))\n",
        "model_a.summary()"
      ],
      "metadata": {
        "colab": {
          "base_uri": "https://localhost:8080/"
        },
        "id": "VJmrgCPlzDgD",
        "outputId": "25467bf6-f7d4-4b50-fbbf-6eb193d883b6"
      },
      "execution_count": 58,
      "outputs": [
        {
          "output_type": "stream",
          "name": "stdout",
          "text": [
            "Model: \"sequential_41\"\n",
            "_________________________________________________________________\n",
            " Layer (type)                Output Shape              Param #   \n",
            "=================================================================\n",
            " conv2d_43 (Conv2D)          (None, 32, 32, 512)       14336     \n",
            "                                                                 \n",
            " max_pooling2d_38 (MaxPoolin  (None, 8, 8, 512)        0         \n",
            " g2D)                                                            \n",
            "                                                                 \n",
            " flatten_41 (Flatten)        (None, 32768)             0         \n",
            "                                                                 \n",
            " dense_76 (Dense)            (None, 10)                327690    \n",
            "                                                                 \n",
            "=================================================================\n",
            "Total params: 342,026\n",
            "Trainable params: 342,026\n",
            "Non-trainable params: 0\n",
            "_________________________________________________________________\n"
          ]
        }
      ]
    },
    {
      "cell_type": "code",
      "source": [
        "model_a.compile(optimizer='adam',loss=tf.keras.losses.SparseCategoricalCrossentropy(from_logits=True), metrics=['accuracy'])\n",
        "\n",
        "rep_a = model_a.fit(x_train, y_train, epochs=10, validation_data=(x_test, y_test))"
      ],
      "metadata": {
        "colab": {
          "base_uri": "https://localhost:8080/"
        },
        "id": "ou-Mccz13noX",
        "outputId": "16150a39-d3db-441d-ba06-363452c2fb0a"
      },
      "execution_count": 60,
      "outputs": [
        {
          "output_type": "stream",
          "name": "stdout",
          "text": [
            "Epoch 1/10\n"
          ]
        },
        {
          "output_type": "stream",
          "name": "stderr",
          "text": [
            "/usr/local/lib/python3.7/dist-packages/tensorflow/python/util/dispatch.py:1096: UserWarning: \"`sparse_categorical_crossentropy` received `from_logits=True`, but the `output` argument was produced by a sigmoid or softmax activation and thus does not represent logits. Was this intended?\"\n",
            "  return dispatch_target(*args, **kwargs)\n"
          ]
        },
        {
          "output_type": "stream",
          "name": "stdout",
          "text": [
            "1563/1563 [==============================] - 26s 16ms/step - loss: 1.4578 - accuracy: 0.5042 - val_loss: 1.4556 - val_accuracy: 0.5092\n",
            "Epoch 2/10\n",
            "1563/1563 [==============================] - 22s 14ms/step - loss: 1.4169 - accuracy: 0.5179 - val_loss: 1.6259 - val_accuracy: 0.4653\n",
            "Epoch 3/10\n",
            "1563/1563 [==============================] - 23s 15ms/step - loss: 1.4078 - accuracy: 0.5183 - val_loss: 1.5652 - val_accuracy: 0.4761\n",
            "Epoch 4/10\n",
            "1563/1563 [==============================] - 26s 16ms/step - loss: 1.3822 - accuracy: 0.5280 - val_loss: 1.5567 - val_accuracy: 0.5027\n",
            "Epoch 5/10\n",
            "1563/1563 [==============================] - 22s 14ms/step - loss: 1.3679 - accuracy: 0.5334 - val_loss: 1.5222 - val_accuracy: 0.4964\n",
            "Epoch 6/10\n",
            "1563/1563 [==============================] - 21s 14ms/step - loss: 1.3501 - accuracy: 0.5384 - val_loss: 1.4959 - val_accuracy: 0.5272\n",
            "Epoch 7/10\n",
            "1563/1563 [==============================] - 23s 15ms/step - loss: 1.3988 - accuracy: 0.5267 - val_loss: 1.6983 - val_accuracy: 0.4587\n",
            "Epoch 8/10\n",
            "1563/1563 [==============================] - 22s 14ms/step - loss: 1.3461 - accuracy: 0.5427 - val_loss: 1.5995 - val_accuracy: 0.5140\n",
            "Epoch 9/10\n",
            "1563/1563 [==============================] - 22s 14ms/step - loss: 1.3305 - accuracy: 0.5460 - val_loss: 1.6620 - val_accuracy: 0.4969\n",
            "Epoch 10/10\n",
            "1563/1563 [==============================] - 23s 14ms/step - loss: 1.3301 - accuracy: 0.5458 - val_loss: 1.7346 - val_accuracy: 0.4782\n"
          ]
        }
      ]
    },
    {
      "cell_type": "code",
      "source": [
        "plt.plot(rep_a.history['accuracy'], label='accuracy')\n",
        "plt.plot(rep_a.history['val_accuracy'], label = 'val_accuracy')\n",
        "plt.xlabel('Epoch')\n",
        "plt.ylabel('Accuracy')\n",
        "plt.ylim([0, 1])\n",
        "plt.legend(loc='lower right')"
      ],
      "metadata": {
        "colab": {
          "base_uri": "https://localhost:8080/",
          "height": 300
        },
        "id": "mM1JNWX948Av",
        "outputId": "3b8a783c-f02e-4e44-eb48-f75eac7520ef"
      },
      "execution_count": 61,
      "outputs": [
        {
          "output_type": "execute_result",
          "data": {
            "text/plain": [
              "<matplotlib.legend.Legend at 0x7f2c4f36e050>"
            ]
          },
          "metadata": {},
          "execution_count": 61
        },
        {
          "output_type": "display_data",
          "data": {
            "image/png": "[encoded data removed]",
            "text/plain": [
              "<Figure size 432x288 with 1 Axes>"
            ]
          },
          "metadata": {
            "needs_background": "light"
          }
        }
      ]
    },
    {
      "cell_type": "code",
      "source": [
        "test_loss_a, test_acc_a = model_a.evaluate(x_test, y_test, verbose=2)\n",
        "print(test_acc_a)"
      ],
      "metadata": {
        "colab": {
          "base_uri": "https://localhost:8080/"
        },
        "id": "EyLlYfs95G0y",
        "outputId": "d39d0bf5-f263-428b-d442-17fc701cfea4"
      },
      "execution_count": 62,
      "outputs": [
        {
          "output_type": "stream",
          "name": "stdout",
          "text": [
            "313/313 - 2s - loss: 1.7346 - accuracy: 0.4782 - 2s/epoch - 6ms/step\n",
            "0.4781999886035919\n"
          ]
        }
      ]
    },
    {
      "cell_type": "markdown",
      "source": [
        "***b)***"
      ],
      "metadata": {
        "id": "b-o7wagI6AIn"
      }
    },
    {
      "cell_type": "code",
      "source": [
        "model_b = Sequential()\n",
        "model_b.add(Conv2D(32, (3, 3), padding='same', activation='relu', input_shape=(32, 32, 3)))\n",
        "model_b.add(MaxPooling2D((2, 2)))\n",
        "model_b.add(Conv2D(64, (3, 3), padding='same', activation='relu'))\n",
        "model_b.add(MaxPooling2D((2, 2)))\n",
        "model_b.add(Conv2D(128, (4, 4), padding='same', activation='relu'))\n",
        "model_b.add(MaxPooling2D((2, 2)))\n",
        "model_b.add(Conv2D(128, (3, 3), padding='same', activation='relu'))\n",
        "model_b.add(MaxPooling2D((2, 2)))\n",
        "model_b.add(Flatten())\n",
        "model_b.add(Dense(128, activation='relu', kernel_initializer='he_uniform'))\n",
        "model_b.add(Dense(10, activation='softmax'))\n",
        "model_b.summary()"
      ],
      "metadata": {
        "colab": {
          "base_uri": "https://localhost:8080/"
        },
        "id": "5JdbZ4Wf6IfC",
        "outputId": "8e4e0eae-711a-4298-ef3c-287e152e3736"
      },
      "execution_count": 96,
      "outputs": [
        {
          "output_type": "stream",
          "name": "stdout",
          "text": [
            "Model: \"sequential_72\"\n",
            "_________________________________________________________________\n",
            " Layer (type)                Output Shape              Param #   \n",
            "=================================================================\n",
            " conv2d_182 (Conv2D)         (None, 32, 32, 32)        896       \n",
            "                                                                 \n",
            " max_pooling2d_131 (MaxPooli  (None, 16, 16, 32)       0         \n",
            " ng2D)                                                           \n",
            "                                                                 \n",
            " conv2d_183 (Conv2D)         (None, 16, 16, 64)        18496     \n",
            "                                                                 \n",
            " max_pooling2d_132 (MaxPooli  (None, 8, 8, 64)         0         \n",
            " ng2D)                                                           \n",
            "                                                                 \n",
            " conv2d_184 (Conv2D)         (None, 8, 8, 128)         131200    \n",
            "                                                                 \n",
            " max_pooling2d_133 (MaxPooli  (None, 4, 4, 128)        0         \n",
            " ng2D)                                                           \n",
            "                                                                 \n",
            " conv2d_185 (Conv2D)         (None, 4, 4, 128)         147584    \n",
            "                                                                 \n",
            " max_pooling2d_134 (MaxPooli  (None, 2, 2, 128)        0         \n",
            " ng2D)                                                           \n",
            "                                                                 \n",
            " flatten_68 (Flatten)        (None, 512)               0         \n",
            "                                                                 \n",
            " dense_129 (Dense)           (None, 128)               65664     \n",
            "                                                                 \n",
            " dense_130 (Dense)           (None, 10)                1290      \n",
            "                                                                 \n",
            "=================================================================\n",
            "Total params: 365,130\n",
            "Trainable params: 365,130\n",
            "Non-trainable params: 0\n",
            "_________________________________________________________________\n"
          ]
        }
      ]
    },
    {
      "cell_type": "code",
      "source": [
        "model_b.compile(optimizer='adam',loss=tf.keras.losses.SparseCategoricalCrossentropy(from_logits=True), metrics=['accuracy'])\n",
        "\n",
        "rep_b = model_b.fit(x_train, y_train, epochs=10, validation_data=(x_test, y_test))"
      ],
      "metadata": {
        "colab": {
          "base_uri": "https://localhost:8080/"
        },
        "id": "cnw6__9m7tiH",
        "outputId": "c3bec403-c93a-433a-c91a-5f297f39b193"
      },
      "execution_count": 97,
      "outputs": [
        {
          "output_type": "stream",
          "name": "stdout",
          "text": [
            "Epoch 1/10\n"
          ]
        },
        {
          "output_type": "stream",
          "name": "stderr",
          "text": [
            "/usr/local/lib/python3.7/dist-packages/tensorflow/python/util/dispatch.py:1096: UserWarning: \"`sparse_categorical_crossentropy` received `from_logits=True`, but the `output` argument was produced by a sigmoid or softmax activation and thus does not represent logits. Was this intended?\"\n",
            "  return dispatch_target(*args, **kwargs)\n"
          ]
        },
        {
          "output_type": "stream",
          "name": "stdout",
          "text": [
            "1563/1563 [==============================] - 21s 13ms/step - loss: 1.6215 - accuracy: 0.4675 - val_loss: 1.2410 - val_accuracy: 0.5633\n",
            "Epoch 2/10\n",
            "1563/1563 [==============================] - 21s 13ms/step - loss: 1.1331 - accuracy: 0.6026 - val_loss: 1.0859 - val_accuracy: 0.6188\n",
            "Epoch 3/10\n",
            "1563/1563 [==============================] - 21s 14ms/step - loss: 0.9861 - accuracy: 0.6557 - val_loss: 0.9991 - val_accuracy: 0.6610\n",
            "Epoch 4/10\n",
            "1563/1563 [==============================] - 20s 13ms/step - loss: 0.8995 - accuracy: 0.6884 - val_loss: 1.0164 - val_accuracy: 0.6614\n",
            "Epoch 5/10\n",
            "1563/1563 [==============================] - 21s 13ms/step - loss: 0.8223 - accuracy: 0.7158 - val_loss: 0.9628 - val_accuracy: 0.6696\n",
            "Epoch 6/10\n",
            "1563/1563 [==============================] - 21s 13ms/step - loss: 0.7573 - accuracy: 0.7368 - val_loss: 0.9380 - val_accuracy: 0.6860\n",
            "Epoch 7/10\n",
            "1563/1563 [==============================] - 20s 13ms/step - loss: 0.6893 - accuracy: 0.7574 - val_loss: 0.9174 - val_accuracy: 0.6976\n",
            "Epoch 8/10\n",
            "1563/1563 [==============================] - 20s 13ms/step - loss: 0.6406 - accuracy: 0.7774 - val_loss: 0.9187 - val_accuracy: 0.7036\n",
            "Epoch 9/10\n",
            "1563/1563 [==============================] - 20s 13ms/step - loss: 0.5879 - accuracy: 0.7957 - val_loss: 0.9121 - val_accuracy: 0.7053\n",
            "Epoch 10/10\n",
            "1563/1563 [==============================] - 21s 13ms/step - loss: 0.5473 - accuracy: 0.8118 - val_loss: 0.9431 - val_accuracy: 0.7120\n"
          ]
        }
      ]
    },
    {
      "cell_type": "code",
      "source": [
        "plt.plot(rep_b.history['accuracy'], label='accuracy')\n",
        "plt.plot(rep_b.history['val_accuracy'], label = 'val_accuracy')\n",
        "plt.xlabel('Epoch')\n",
        "plt.ylabel('Accuracy')\n",
        "plt.ylim([0, 1])\n",
        "plt.legend(loc='lower right')"
      ],
      "metadata": {
        "colab": {
          "base_uri": "https://localhost:8080/",
          "height": 300
        },
        "id": "osnIz1a772A1",
        "outputId": "8df7c4aa-8009-4b90-8f7f-c08ae7dc980a"
      },
      "execution_count": 98,
      "outputs": [
        {
          "output_type": "execute_result",
          "data": {
            "text/plain": [
              "<matplotlib.legend.Legend at 0x7f2c51515f10>"
            ]
          },
          "metadata": {},
          "execution_count": 98
        },
        {
          "output_type": "display_data",
          "data": {
            "image/png": "[encoded data removed]",
            "text/plain": [
              "<Figure size 432x288 with 1 Axes>"
            ]
          },
          "metadata": {
            "needs_background": "light"
          }
        }
      ]
    },
    {
      "cell_type": "code",
      "source": [
        "test_loss_b, test_acc_b = model_b.evaluate(x_test, y_test, verbose=2)\n",
        "print(test_acc_b)"
      ],
      "metadata": {
        "colab": {
          "base_uri": "https://localhost:8080/"
        },
        "id": "nMeLJyKj786E",
        "outputId": "fde0cede-efff-456d-9426-1a146d662498"
      },
      "execution_count": 99,
      "outputs": [
        {
          "output_type": "stream",
          "name": "stdout",
          "text": [
            "313/313 - 2s - loss: 0.9431 - accuracy: 0.7120 - 2s/epoch - 5ms/step\n",
            "0.7120000123977661\n"
          ]
        }
      ]
    }
  ]
}